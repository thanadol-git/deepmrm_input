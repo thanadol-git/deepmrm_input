{
 "cells": [
  {
   "cell_type": "code",
   "execution_count": null,
   "metadata": {},
   "outputs": [],
   "source": [
    "import pandas as pd\n",
    "from pyteomics import parser\n",
    "import re\n",
    "\n",
    "# Read input files\n",
    "\n",
    "# Sequence file\n",
    "qReps = pd.read_csv(\"data/ComplemEdge_seq_HPRR.csv\")\n",
    "# Method file \n",
    "vebios_method = pd.read_csv(\"data/Vebios_ComplemEdge_method_20241108.csv\")\n"
   ]
  },
  {
   "cell_type": "code",
   "execution_count": null,
   "metadata": {},
   "outputs": [],
   "source": [
    "# Extract unique sequences from qReps\n",
    "qReps['aa_seq'] = qReps['aa_seq'].str.replace('[^A-Z]', '', regex=True)\n",
    "all_seq = qReps['aa_seq'].unique()\n",
    "\n",
    "# Function to perform in silico digestion\n",
    "def digest_df(seq):\n",
    "    dig_seq = parser.cleave(seq, parser.expasy_rules['trypsin'], missed_cleavages=2)\n",
    "    dig_seq_df = pd.DataFrame(dig_seq, columns=['peptide'])\n",
    "    dig_seq_df['aa_seq'] = seq\n",
    "    Prot_df = qReps[qReps['aa_seq'] == seq].merge(dig_seq_df, on='aa_seq', how='left')\n",
    "    return Prot_df"
   ]
  },
  {
   "cell_type": "code",
   "execution_count": null,
   "metadata": {},
   "outputs": [],
   "source": [
    "# in silico digestion of all targets sequences from spikedin list\n",
    "all_dig = pd.concat([digest_df(seq) for seq in all_seq]).drop_duplicates(subset=['peptide'])\n",
    "all_dig"
   ]
  },
  {
   "cell_type": "code",
   "execution_count": null,
   "metadata": {},
   "outputs": [],
   "source": [
    "# Add Unique seqyebce conlumn\n",
    "vebios_method['Unique_Seq'] = vebios_method['Compound'].str.replace('[^A-Z]', '', regex=True)\n",
    "# Add column is_heavy if detect 'heavy' in Compund\n",
    "vebios_method['is_heavy'] = vebios_method['Compound'].str.contains('heavy', case=False)\n",
    "# Add column \"charge\" which is the last number in the last parenthesis\n",
    "vebios_method['charge'] = vebios_method['Compound'].str.extract(r'\\(([^()]*)\\)$')\n",
    "\n",
    "\n",
    "vebios_method"
   ]
  },
  {
   "cell_type": "code",
   "execution_count": null,
   "metadata": {},
   "outputs": [],
   "source": [
    "# Extract unique sequences from method\n",
    "method_seq = vebios_method['Unique_Seq'].unique()\n",
    "\n",
    "# Filter peptides not in method_seq but can be found from insilico digestion\n",
    "filtered_peptides = all_dig[~all_dig['peptide'].isin(method_seq)]['peptide'].unique()\n",
    "# print unique sequence from filtered_peptides\n"
   ]
  },
  {
   "cell_type": "code",
   "execution_count": null,
   "metadata": {},
   "outputs": [],
   "source": [
    "# # Process vebios_method for deepmrm\n",
    "vebios_deepmrm = vebios_method[['Unique_Seq', 'Precursor (m/z)', 'Product (m/z)', 'is_heavy']].copy()\n",
    "vebios_deepmrm.columns = ['Unique_Seq', 'precursor_mz', 'product_mz', 'is_heavy']\n",
    "vebios_deepmrm"
   ]
  },
  {
   "cell_type": "code",
   "execution_count": null,
   "metadata": {},
   "outputs": [],
   "source": [
    "# count rows by peptide_id and is_heavy in vebios_deepmrm\n",
    "\n",
    "peptide_counts = vebios_deepmrm.groupby(['Unique_Seq', 'is_heavy']).size()\n",
    "# Extract odd counts from peptie_counts\n",
    "# odd_counts = peptide_counts[(peptide_counts['False'] %2 == 1)].sum(axis=1)\n",
    "# odd_pept = peptide_counts[(peptide_counts[False] != peptide_counts[True])].index\n",
    "\n",
    "# peptide_counts[peptide_counts % 2 == 1]\n",
    "peptide_counts"
   ]
  }
 ],
 "metadata": {
  "kernelspec": {
   "display_name": "Python 3",
   "language": "python",
   "name": "python3"
  },
  "language_info": {
   "codemirror_mode": {
    "name": "ipython",
    "version": 3
   },
   "file_extension": ".py",
   "mimetype": "text/x-python",
   "name": "python",
   "nbconvert_exporter": "python",
   "pygments_lexer": "ipython3",
   "version": "3.10.18"
  }
 },
 "nbformat": 4,
 "nbformat_minor": 2
}
