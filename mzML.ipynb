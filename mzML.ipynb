{
 "cells": [
  {
   "cell_type": "markdown",
   "id": "0",
   "metadata": {},
   "source": [
    "# QC from mzML runs \n",
    "\n",
    "In this notebook, we will explore the quality control (QC) of mass spectrometry data stored in mzML format. The goal is to ensure that the data is suitable for further analysis and to identify any potential issues that may affect the results. This code is specifically designed to work with mzML files from SCAPIS DIA experiements with Khue. There are around 16 plates of plasma samples, each plate containing 96 samples. The mzML files are stored in a specific directory structure, and we will process them to extract relevant information for QC.\n"
   ]
  },
  {
   "cell_type": "code",
   "execution_count": null,
   "id": "1",
   "metadata": {},
   "outputs": [],
   "source": [
    "# Import packages\n",
    "import os\n",
    "import pandas as pd\n",
    "import numpy as np\n",
    "import matplotlib.pyplot as plt\n",
    "import pymzml\n"
   ]
  },
  {
   "cell_type": "code",
   "execution_count": null,
   "id": "2",
   "metadata": {},
   "outputs": [],
   "source": [
    "# Path to mzML \n",
    "mzml_path = 'mzML/plate1_mzML'"
   ]
  },
  {
   "cell_type": "code",
   "execution_count": null,
   "id": "3",
   "metadata": {},
   "outputs": [],
   "source": [
    "# Read mzML filesdef read_mzml_files(directory):\n",
    "mzml_files = [f for f in os.listdir(mzml_path) if f.endswith('.mzML')]\n",
    "data = []\n",
    "for file in mzml_files:\n",
    "    file_path = os.path.join(mzml_path, file)\n",
    "    with mzml.MzML(file_path) as reader:\n",
    "        for spectrum in reader:\n",
    "            if 'm/z array' in spectrum and 'intensity array' in spectrum:\n",
    "                mz = spectrum['m/z array']\n",
    "                intensity = spectrum['intensity array']\n",
    "                data.append({\n",
    "                    'file': file,\n",
    "                    'mz': mz,\n",
    "                    'intensity': intensity,\n",
    "                    'scan_time': spectrum.get('scan start time', None)\n",
    "                })\n",
    "# pd.DataFrame(data)\n"
   ]
  },
  {
   "cell_type": "code",
   "execution_count": null,
   "id": "4",
   "metadata": {},
   "outputs": [],
   "source": [
    "data"
   ]
  },
  {
   "cell_type": "code",
   "execution_count": null,
   "id": "5",
   "metadata": {},
   "outputs": [],
   "source": [
    "# Write a simpple script that read mzML fiel with pymzml and extract the m/z and intensity values, and scan time.\n",
    "def read_mzml_with_pymzml(file_path):\n",
    "    run = pymzml.run.Reader(file_path)\n",
    "    all_data = []\n",
    "    \n",
    "    # print total number of spectra\n",
    "    print(f'Total number of spectra: {len(run)}')\n",
    "    \n",
    "    for spectrum in run:\n",
    "        if spectrum.ms_level == 1:  # Only process MS1 spectra\n",
    "            mz_array = spectrum.mz\n",
    "            intensity_array = spectrum.i\n",
    "            scan_time = spectrum.scan_time\n",
    "            \n",
    "            # Create individual records for each m/z, intensity pair\n",
    "            for mz_val, int_val in zip(mz_array, intensity_array):\n",
    "                all_data.append({\n",
    "                    'mz': mz_val,\n",
    "                    'intensity': int_val,\n",
    "                    'scan_time': scan_time\n",
    "                })\n",
    "    \n",
    "    # Convert to DataFrame\n",
    "    df = pd.DataFrame(all_data)\n",
    "    \n",
    "    # Sort by scan time\n",
    "    df.sort_values(by='scan_time', inplace=True)\n",
    "    df.reset_index(drop=True, inplace=True)\n",
    "    # convert scan_time to float \n",
    "    # df['scan_time'] = df['scan_time'].astype(float) \n",
    "\n",
    "    return df"
   ]
  },
  {
   "cell_type": "code",
   "execution_count": null,
   "id": "6",
   "metadata": {},
   "outputs": [],
   "source": [
    "data_df = read_mzml_with_pymzml(\"mzML/plate1_mzML/20241127_Scapis_DIA_P1A1.mzML\")\n",
    "# Sort the data by scan time\n",
    "# data_df.sort_values(by='scan_time', inplace=True)"
   ]
  },
  {
   "cell_type": "code",
   "execution_count": null,
   "id": "7",
   "metadata": {},
   "outputs": [],
   "source": [
    "data_df.tail(10)"
   ]
  },
  {
   "cell_type": "code",
   "execution_count": null,
   "id": "8",
   "metadata": {},
   "outputs": [],
   "source": [
    "def print_max_spec_id(mzml_file):\n",
    "    \"\"\"\n",
    "    Print the maximum spectrum ID from an mzML file.\n",
    "    \n",
    "    Parameters:\n",
    "    mzml_file (str): Path to the mzML file\n",
    "    \"\"\"\n",
    "    run = pymzml.run.Reader(mzml_file)\n",
    "    max_spec_id = 0\n",
    "    \n",
    "    for spec in run:\n",
    "        # Extract numeric part of spec.ID if it's a string\n",
    "        try:\n",
    "            if isinstance(spec.ID, str):\n",
    "                # Extract numbers from the ID string\n",
    "                spec_id_num = int(''.join(filter(str.isdigit, spec.ID)))\n",
    "            else:\n",
    "                spec_id_num = int(spec.ID)\n",
    "            \n",
    "            max_spec_id = max(max_spec_id, spec_id_num)\n",
    "            \n",
    "        except ValueError:\n",
    "            # Skip if ID cannot be converted to integer\n",
    "            continue\n",
    "    \n",
    "    print(f\"Maximum spectrum ID: {max_spec_id}\")\n",
    "    return max_spec_id\n",
    "\n",
    "# Usage\n",
    "mzml_file = \"mzML/plate1_mzML/20241127_Scapis_DIA_P1A1.mzML\"\n",
    "print_max_spec_id(mzml_file)"
   ]
  },
  {
   "cell_type": "code",
   "execution_count": null,
   "id": "9",
   "metadata": {},
   "outputs": [],
   "source": [
    "mzml_file = \"mzML/plate1_mzML/20241127_Scapis_DIA_P1A1.mzML\"\n",
    "run = pymzml.run.Reader(mzml_file)\n",
    "for n, spec in enumerate(run):\n",
    "    print(\n",
    "        \"Spectrum {0}, MS level {ms_level} @ RT {scan_time:1.5f}\".format(\n",
    "            spec.ID, ms_level=spec.ms_level, scan_time=spec.scan_time_in_minutes()\n",
    "        )\n",
    "    )\n",
    "print(\"Parsed {0} spectra from file {1}\".format(n, mzml_file))\n",
    "print()"
   ]
  },
  {
   "cell_type": "code",
   "execution_count": null,
   "id": "10",
   "metadata": {},
   "outputs": [],
   "source": [
    "def plot_spectrum_vs_scantime(mzml_file):\n",
    "    \"\"\"\n",
    "    Plot a dot plot of spectrum ID vs scan time from an mzML file.\n",
    "    \n",
    "    Parameters:\n",
    "    mzml_file (str): Path to the mzML file\n",
    "    \"\"\"\n",
    "    run = pymzml.run.Reader(mzml_file)\n",
    "    \n",
    "    spectrum_ids = []\n",
    "    scan_times = []\n",
    "    \n",
    "    for spec in run:\n",
    "        try:\n",
    "            # Extract numeric part of spec.ID if it's a string\n",
    "            if isinstance(spec.ID, str):\n",
    "                spec_id_num = int(''.join(filter(str.isdigit, spec.ID)))\n",
    "            else:\n",
    "                spec_id_num = int(spec.ID)\n",
    "            \n",
    "            spectrum_ids.append(spec_id_num)\n",
    "            scan_times.append(spec.scan_time_in_minutes())\n",
    "            \n",
    "        except (ValueError, TypeError):\n",
    "            # Skip if ID cannot be converted to integer or scan_time is None\n",
    "            continue\n",
    "    \n",
    "    # Create the plot\n",
    "    plt.figure(figsize=(12, 6))\n",
    "    plt.scatter(scan_times, spectrum_ids, alpha=0.6, s=10)\n",
    "    plt.xlabel('Scan Time (minutes)')\n",
    "    plt.ylabel('Spectrum ID')\n",
    "    plt.title(f'Spectrum ID vs Scan Time\\n{os.path.basename(mzml_file)}')\n",
    "    plt.grid(True, alpha=0.3)\n",
    "    plt.tight_layout()\n",
    "    plt.show()\n",
    "    \n",
    "    print(f\"Total spectra plotted: {len(spectrum_ids)}\")\n",
    "    print(f\"Scan time range: {min(scan_times):.2f} - {max(scan_times):.2f} minutes\")\n",
    "    print(f\"Spectrum ID range: {min(spectrum_ids)} - {max(spectrum_ids)}\")\n",
    "\n",
    "# Usage\n",
    "mzml_file = \"mzML/plate1_mzML/20241127_Scapis_DIA_P1A1.mzML\"\n",
    "plot_spectrum_vs_scantime(mzml_file)"
   ]
  }
 ],
 "metadata": {
  "kernelspec": {
   "display_name": "Python 3",
   "language": "python",
   "name": "python3"
  },
  "language_info": {
   "codemirror_mode": {
    "name": "ipython",
    "version": 3
   },
   "file_extension": ".py",
   "mimetype": "text/x-python",
   "name": "python",
   "nbconvert_exporter": "python",
   "pygments_lexer": "ipython3",
   "version": "3.10.18"
  }
 },
 "nbformat": 4,
 "nbformat_minor": 5
}
