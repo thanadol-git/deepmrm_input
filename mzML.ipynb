{
 "cells": [
  {
   "cell_type": "markdown",
   "id": "0",
   "metadata": {},
   "source": [
    "# QC from mzML runs \n",
    "\n",
    "In this notebook, we will explore the quality control (QC) of mass spectrometry data stored in mzML format. The goal is to ensure that the data is suitable for further analysis and to identify any potential issues that may affect the results. This code is specifically designed to work with mzML files from SCAPIS DIA experiements with Khue. There are around 16 plates of plasma samples, each plate containing 96 samples. The mzML files are stored in a specific directory structure, and we will process them to extract relevant information for QC.\n"
   ]
  },
  {
   "cell_type": "code",
   "execution_count": null,
   "id": "1",
   "metadata": {},
   "outputs": [],
   "source": [
    "# Import packages\n",
    "import os\n",
    "import pandas as pd\n",
    "import numpy as np\n",
    "import matplotlib.pyplot as plt\n",
    "from pyteomics import mzml\n",
    "from pyteomics import mass  \n",
    "\n"
   ]
  },
  {
   "cell_type": "code",
   "execution_count": null,
   "id": "2",
   "metadata": {},
   "outputs": [],
   "source": [
    "# Path to mzML \n",
    "mzml_path = '/home/thanadol/Documents/GitHub/deepmrm_input/mzML'"
   ]
  },
  {
   "cell_type": "code",
   "execution_count": null,
   "id": "3",
   "metadata": {},
   "outputs": [],
   "source": [
    "# Read mzML filesdef read_mzml_files(directory):\n",
    "mzml_files = [f for f in os.listdir(mzml_path) if f.endswith('.mzML')]\n",
    "data = []\n",
    "for file in mzml_files:\n",
    "    file_path = os.path.join(directory, file)\n",
    "    with mzml.MzML(file_path) as reader:\n",
    "        for spectrum in reader:\n",
    "            if 'm/z array' in spectrum and 'intensity array' in spectrum:\n",
    "                mz = spectrum['m/z array']\n",
    "                intensity = spectrum['intensity array']\n",
    "                data.append({\n",
    "                    'file': file,\n",
    "                    'mz': mz,\n",
    "                    'intensity': intensity,\n",
    "                    'scan_time': spectrum.get('scan start time', None)\n",
    "                })\n",
    "pd.DataFrame(data)\n"
   ]
  }
 ],
 "metadata": {
  "kernelspec": {
   "display_name": "Python 3",
   "language": "python",
   "name": "python3"
  },
  "language_info": {
   "codemirror_mode": {
    "name": "ipython",
    "version": 3
   },
   "file_extension": ".py",
   "mimetype": "text/x-python",
   "name": "python",
   "nbconvert_exporter": "python",
   "pygments_lexer": "ipython3",
   "version": "3.10.18"
  }
 },
 "nbformat": 4,
 "nbformat_minor": 5
}
