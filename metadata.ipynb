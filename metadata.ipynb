{
 "cells": [
  {
   "cell_type": "code",
   "execution_count": null,
   "metadata": {},
   "outputs": [],
   "source": [
    "\n",
    "# Libraries\n",
    "\n",
    "import numpy as np\n",
    "import pandas as pd\n",
    "import matplotlib.pyplot as plt"
   ]
  },
  {
   "cell_type": "code",
   "execution_count": null,
   "metadata": {},
   "outputs": [],
   "source": [
    "## Bias files \n",
    "bias = pd.read_csv('data/scapis/MS_SCAPIS_BIAS_2025.txt', sep='\\t')\n",
    "## select column Label.ID to Request_beskrivningKI\n",
    "selected_metadata = bias.loc[:, 'Label.ID': 'Request_beskrivningKI']\n",
    "\n",
    "\n",
    "# Wrangling the columns \n",
    "# Remove row with NA in Label.ID\n",
    "selected_metadata = selected_metadata.dropna(subset=['MS_Plate'])\n",
    "\n",
    "selected_metadata['col'] = selected_metadata['Position'].str.extract('(\\d+)').astype(int)\n",
    "# Update row with Alphabet from Position \n",
    "selected_metadata['row'] = selected_metadata['Position'].str.extract('([A-Z])')"
   ]
  },
  {
   "cell_type": "code",
   "execution_count": null,
   "metadata": {},
   "outputs": [],
   "source": [
    "unique_values = selected_metadata['MS_Plate'].value_counts()\n",
    "print(f\"Unique values in 'Random_plate': {unique_values}\")"
   ]
  },
  {
   "cell_type": "code",
   "execution_count": null,
   "metadata": {},
   "outputs": [],
   "source": [
    "# filter plate 1\n",
    "plate1 = selected_metadata[selected_metadata['Random_plate'] == \"Plate1\"]\n",
    "# create col which is the number from Position \n",
    "plate1['col'] = plate1['Position'].str.extract('(\\d+)').astype(int)\n",
    "# Dotplot where x-axis is PlatePosition and y-axis is Row\n",
    "plt.figure(figsize=(10, 6))\n",
    "plt.scatter(plate1['col'], plate1['row'], alpha=0.5)\n",
    "plt.title('Dotplot of Plate1 Positions')\n",
    "plt.xlabel('Plate Position')\n",
    "plt.ylabel('Row')\n",
    "plt.xticks(rotation=90)\n",
    "plt.grid(True)\n",
    "plt.tight_layout()\n",
    "plt.show()"
   ]
  }
 ],
 "metadata": {
  "kernelspec": {
   "display_name": "Python 3",
   "language": "python",
   "name": "python3"
  },
  "language_info": {
   "codemirror_mode": {
    "name": "ipython",
    "version": 3
   },
   "file_extension": ".py",
   "mimetype": "text/x-python",
   "name": "python",
   "nbconvert_exporter": "python",
   "pygments_lexer": "ipython3",
   "version": "3.10.16"
  }
 },
 "nbformat": 4,
 "nbformat_minor": 2
}
