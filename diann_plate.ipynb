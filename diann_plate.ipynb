{
 "cells": [
  {
   "cell_type": "code",
   "execution_count": 1,
   "metadata": {},
   "outputs": [],
   "source": [
    "# load pandas and matplotlib\n",
    "import pandas as pd\n",
    "import matplotlib.pyplot as plt\n",
    "# load the dataset\n",
    "df = pd.read_csv('data/plate_1/diannsummary/diann_report.unique_genes_matrix.tsv', sep='\\t')\n"
   ]
  },
  {
   "cell_type": "code",
   "execution_count": 5,
   "metadata": {},
   "outputs": [
    {
     "data": {
      "application/vnd.microsoft.datawrangler.viewer.v0+json": {
       "columns": [
        {
         "name": "index",
         "rawType": "int64",
         "type": "integer"
        },
        {
         "name": "Genes",
         "rawType": "object",
         "type": "string"
        },
        {
         "name": "20241127_Scapis_DIA_P1B10.mzML",
         "rawType": "float64",
         "type": "float"
        },
        {
         "name": "20241127_Scapis_DIA_P1B2.mzML",
         "rawType": "float64",
         "type": "float"
        },
        {
         "name": "20241127_Scapis_DIA_P1B4.mzML",
         "rawType": "float64",
         "type": "float"
        },
        {
         "name": "20241127_Scapis_DIA_P1A4.mzML",
         "rawType": "float64",
         "type": "float"
        },
        {
         "name": "20241127_Scapis_DIA_P1B3.mzML",
         "rawType": "float64",
         "type": "float"
        },
        {
         "name": "20241127_Scapis_DIA_P1B11.mzML",
         "rawType": "float64",
         "type": "float"
        },
        {
         "name": "20241127_Scapis_DIA_P1B12.mzML",
         "rawType": "float64",
         "type": "float"
        },
        {
         "name": "20241127_Scapis_DIA_P1A11.mzML",
         "rawType": "float64",
         "type": "float"
        },
        {
         "name": "20241127_Scapis_DIA_P1A10.mzML",
         "rawType": "float64",
         "type": "float"
        },
        {
         "name": "20241127_Scapis_DIA_P1A2.mzML",
         "rawType": "float64",
         "type": "float"
        },
        {
         "name": "20241127_Scapis_DIA_P1A8.mzML",
         "rawType": "float64",
         "type": "float"
        },
        {
         "name": "20241127_Scapis_DIA_P1B1.mzML",
         "rawType": "float64",
         "type": "float"
        },
        {
         "name": "20241127_Scapis_DIA_P1A3.mzML",
         "rawType": "float64",
         "type": "float"
        },
        {
         "name": "20241127_Scapis_DIA_P1B6.mzML",
         "rawType": "float64",
         "type": "float"
        },
        {
         "name": "20241127_Scapis_DIA_P1A9.mzML",
         "rawType": "float64",
         "type": "float"
        },
        {
         "name": "20241127_Scapis_DIA_P1A7.mzML",
         "rawType": "float64",
         "type": "float"
        },
        {
         "name": "20241127_Scapis_DIA_P1B8.mzML",
         "rawType": "float64",
         "type": "float"
        },
        {
         "name": "20241127_Scapis_DIA_P1A12.mzML",
         "rawType": "float64",
         "type": "float"
        },
        {
         "name": "20241127_Scapis_DIA_P1A6.mzML",
         "rawType": "float64",
         "type": "float"
        },
        {
         "name": "20241127_Scapis_DIA_P1A5.mzML",
         "rawType": "float64",
         "type": "float"
        },
        {
         "name": "20241127_Scapis_DIA_P1B9.mzML",
         "rawType": "float64",
         "type": "float"
        },
        {
         "name": "20241127_Scapis_DIA_P1C1.mzML",
         "rawType": "float64",
         "type": "float"
        },
        {
         "name": "20241127_Scapis_DIA_P1A1.mzML",
         "rawType": "float64",
         "type": "float"
        },
        {
         "name": "20241127_Scapis_DIA_P1B5.mzML",
         "rawType": "float64",
         "type": "float"
        },
        {
         "name": "20241127_Scapis_DIA_P1C10.mzML",
         "rawType": "float64",
         "type": "float"
        },
        {
         "name": "20241127_Scapis_DIA_P1C11.mzML",
         "rawType": "float64",
         "type": "float"
        },
        {
         "name": "20241127_Scapis_DIA_P1C3.mzML",
         "rawType": "float64",
         "type": "float"
        },
        {
         "name": "20241127_Scapis_DIA_P1B7.mzML",
         "rawType": "float64",
         "type": "float"
        },
        {
         "name": "20241127_Scapis_DIA_P1C7.mzML",
         "rawType": "float64",
         "type": "float"
        },
        {
         "name": "20241127_Scapis_DIA_P1C2.mzML",
         "rawType": "float64",
         "type": "float"
        },
        {
         "name": "20241127_Scapis_DIA_P1C12.mzML",
         "rawType": "float64",
         "type": "float"
        },
        {
         "name": "20241127_Scapis_DIA_P1C6.mzML",
         "rawType": "float64",
         "type": "float"
        },
        {
         "name": "20241127_Scapis_DIA_P1C4.mzML",
         "rawType": "float64",
         "type": "float"
        },
        {
         "name": "20241127_Scapis_DIA_P1C5.mzML",
         "rawType": "float64",
         "type": "float"
        },
        {
         "name": "20241127_Scapis_DIA_P1D11.mzML",
         "rawType": "float64",
         "type": "float"
        },
        {
         "name": "20241127_Scapis_DIA_P1D1.mzML",
         "rawType": "float64",
         "type": "float"
        },
        {
         "name": "20241127_Scapis_DIA_P1D12.mzML",
         "rawType": "float64",
         "type": "float"
        },
        {
         "name": "20241127_Scapis_DIA_P1D3.mzML",
         "rawType": "float64",
         "type": "float"
        },
        {
         "name": "20241127_Scapis_DIA_P1D8.mzML",
         "rawType": "float64",
         "type": "float"
        },
        {
         "name": "20241127_Scapis_DIA_P1D6.mzML",
         "rawType": "float64",
         "type": "float"
        },
        {
         "name": "20241127_Scapis_DIA_P1D10.mzML",
         "rawType": "float64",
         "type": "float"
        },
        {
         "name": "20241127_Scapis_DIA_P1D9.mzML",
         "rawType": "float64",
         "type": "float"
        },
        {
         "name": "20241127_Scapis_DIA_P1D4.mzML",
         "rawType": "float64",
         "type": "float"
        },
        {
         "name": "20241127_Scapis_DIA_P1C8.mzML",
         "rawType": "float64",
         "type": "float"
        },
        {
         "name": "20241127_Scapis_DIA_P1E12.mzML",
         "rawType": "float64",
         "type": "float"
        },
        {
         "name": "20241127_Scapis_DIA_P1D2.mzML",
         "rawType": "float64",
         "type": "float"
        },
        {
         "name": "20241127_Scapis_DIA_P1D5.mzML",
         "rawType": "float64",
         "type": "float"
        },
        {
         "name": "20241127_Scapis_DIA_P1E1.mzML",
         "rawType": "float64",
         "type": "float"
        },
        {
         "name": "20241127_Scapis_DIA_P1F10.mzML",
         "rawType": "float64",
         "type": "float"
        },
        {
         "name": "20241127_Scapis_DIA_P1D7.mzML",
         "rawType": "float64",
         "type": "float"
        },
        {
         "name": "20241127_Scapis_DIA_P1F2.mzML",
         "rawType": "float64",
         "type": "float"
        },
        {
         "name": "20241127_Scapis_DIA_P1F4.mzML",
         "rawType": "float64",
         "type": "float"
        },
        {
         "name": "20241127_Scapis_DIA_P1E10.mzML",
         "rawType": "float64",
         "type": "float"
        },
        {
         "name": "20241127_Scapis_DIA_P1F5.mzML",
         "rawType": "float64",
         "type": "float"
        },
        {
         "name": "20241127_Scapis_DIA_P1F7.mzML",
         "rawType": "float64",
         "type": "float"
        },
        {
         "name": "20241127_Scapis_DIA_P1E11.mzML",
         "rawType": "float64",
         "type": "float"
        },
        {
         "name": "20241127_Scapis_DIA_P1E3.mzML",
         "rawType": "float64",
         "type": "float"
        },
        {
         "name": "20241127_Scapis_DIA_P1E5.mzML",
         "rawType": "float64",
         "type": "float"
        },
        {
         "name": "20241127_Scapis_DIA_P1E6.mzML",
         "rawType": "float64",
         "type": "float"
        },
        {
         "name": "20241127_Scapis_DIA_P1E7.mzML",
         "rawType": "float64",
         "type": "float"
        },
        {
         "name": "20241127_Scapis_DIA_P1F8.mzML",
         "rawType": "float64",
         "type": "float"
        },
        {
         "name": "20241127_Scapis_DIA_P1F12.mzML",
         "rawType": "float64",
         "type": "float"
        },
        {
         "name": "20241127_Scapis_DIA_P1E8.mzML",
         "rawType": "float64",
         "type": "float"
        },
        {
         "name": "20241127_Scapis_DIA_P1F3.mzML",
         "rawType": "float64",
         "type": "float"
        },
        {
         "name": "20241127_Scapis_DIA_P1F9.mzML",
         "rawType": "float64",
         "type": "float"
        },
        {
         "name": "20241127_Scapis_DIA_P1G11.mzML",
         "rawType": "float64",
         "type": "float"
        },
        {
         "name": "20241127_Scapis_DIA_P1G10.mzML",
         "rawType": "float64",
         "type": "float"
        },
        {
         "name": "20241127_Scapis_DIA_P1G2.mzML",
         "rawType": "float64",
         "type": "float"
        },
        {
         "name": "20241127_Scapis_DIA_P1G3.mzML",
         "rawType": "float64",
         "type": "float"
        },
        {
         "name": "20241127_Scapis_DIA_P1G6.mzML",
         "rawType": "float64",
         "type": "float"
        },
        {
         "name": "20241127_Scapis_DIA_P1C9.mzML",
         "rawType": "float64",
         "type": "float"
        },
        {
         "name": "20241127_Scapis_DIA_P1G7.mzML",
         "rawType": "float64",
         "type": "float"
        },
        {
         "name": "20241127_Scapis_DIA_P1E2.mzML",
         "rawType": "float64",
         "type": "float"
        },
        {
         "name": "20241127_Scapis_DIA_P1G12.mzML",
         "rawType": "float64",
         "type": "float"
        },
        {
         "name": "20241127_Scapis_DIA_P1F1.mzML",
         "rawType": "float64",
         "type": "float"
        },
        {
         "name": "20241127_Scapis_DIA_P1F6.mzML",
         "rawType": "float64",
         "type": "float"
        },
        {
         "name": "20241127_Scapis_DIA_P1G1.mzML",
         "rawType": "float64",
         "type": "float"
        },
        {
         "name": "20241127_Scapis_DIA_P1H5.mzML",
         "rawType": "float64",
         "type": "float"
        },
        {
         "name": "20241127_Scapis_DIA_P1E4.mzML",
         "rawType": "float64",
         "type": "float"
        },
        {
         "name": "20241127_Scapis_DIA_P1F11.mzML",
         "rawType": "float64",
         "type": "float"
        },
        {
         "name": "20241127_Scapis_DIA_P1G5.mzML",
         "rawType": "float64",
         "type": "float"
        },
        {
         "name": "20241127_Scapis_DIA_P1H9_20241128161332.mzML",
         "rawType": "float64",
         "type": "float"
        },
        {
         "name": "20241127_Scapis_DIA_P1G8.mzML",
         "rawType": "float64",
         "type": "float"
        },
        {
         "name": "20241127_Scapis_DIA_P1G9.mzML",
         "rawType": "float64",
         "type": "float"
        },
        {
         "name": "20241127_Scapis_DIA_P1H12.mzML",
         "rawType": "float64",
         "type": "float"
        },
        {
         "name": "20241127_Scapis_DIA_P1H10.mzML",
         "rawType": "float64",
         "type": "float"
        },
        {
         "name": "20241127_Scapis_DIA_P1H4.mzML",
         "rawType": "float64",
         "type": "float"
        },
        {
         "name": "20241127_Scapis_DIA_P1H6.mzML",
         "rawType": "float64",
         "type": "float"
        },
        {
         "name": "20241127_Scapis_DIA_P1H1.mzML",
         "rawType": "float64",
         "type": "float"
        },
        {
         "name": "20241127_Scapis_DIA_P1E9.mzML",
         "rawType": "float64",
         "type": "float"
        },
        {
         "name": "20241127_Scapis_DIA_P1H8.mzML",
         "rawType": "float64",
         "type": "float"
        },
        {
         "name": "20241127_Scapis_DIA_P1G4.mzML",
         "rawType": "float64",
         "type": "float"
        },
        {
         "name": "20241127_Scapis_DIA_P1H3.mzML",
         "rawType": "float64",
         "type": "float"
        },
        {
         "name": "20241127_Scapis_DIA_P1H7.mzML",
         "rawType": "float64",
         "type": "float"
        },
        {
         "name": "20241127_Scapis_DIA_P1H2.mzML",
         "rawType": "float64",
         "type": "float"
        },
        {
         "name": "20241127_Scapis_DIA_P1H11.mzML",
         "rawType": "float64",
         "type": "float"
        },
        {
         "name": "20241127_Scapis_DIA_P1H9_20241129113823.mzML",
         "rawType": "float64",
         "type": "float"
        }
       ],
       "ref": "2e4997bb-02ca-40c5-80c9-424bbff490f7",
       "rows": [
        [
         "0",
         "A1BG",
         "4649770.0",
         "4952960.0",
         "4641070.0",
         "3944320.0",
         "5302630.0",
         "5298060.0",
         "4234510.0",
         "4471800.0",
         "5845090.0",
         "5035140.0",
         "3795320.0",
         "4387910.0",
         "4203840.0",
         "5251010.0",
         "4994250.0",
         "4786230.0",
         "5315750.0",
         "4139160.0",
         "4256420.0",
         "4403420.0",
         "4533600.0",
         "5248230.0",
         "3674890.0",
         "5372190.0",
         "4393870.0",
         "4815120.0",
         "4752740.0",
         "4107550.0",
         "4808590.0",
         "3697380.0",
         "4318690.0",
         "4158050.0",
         "4303180.0",
         "5590100.0",
         "5026810.0",
         "5206940.0",
         "4366060.0",
         "5030320.0",
         "3865000.0",
         "4242850.0",
         "4069120.0",
         "4350880.0",
         "3966340.0",
         "3279280.0",
         "3646450.0",
         "5161850.0",
         "4761100.0",
         "5451080.0",
         "4436300.0",
         "4881960.0",
         "4157140.0",
         "3811390.0",
         "5604400.0",
         "4648170.0",
         "5003580.0",
         "3920770.0",
         "4144540.0",
         "4804300.0",
         "5948020.0",
         "5731670.0",
         "4541820.0",
         "4128020.0",
         "5292980.0",
         "5277150.0",
         "4772370.0",
         "4017690.0",
         "4151850.0",
         "4887600.0",
         "5369530.0",
         "4236340.0",
         "4843950.0",
         "4000960.0",
         "4369070.0",
         "4712450.0",
         "4672620.0",
         "3997740.0",
         "4719880.0",
         "2642180.0",
         "4375050.0",
         "5552680.0",
         "4328550.0",
         "4236470.0",
         "5133550.0",
         "4979280.0",
         "4537730.0",
         "5286110.0",
         "4639450.0",
         "4816530.0",
         "5181880.0",
         "5553770.0",
         "4648390.0",
         "4474500.0",
         "3645070.0",
         "5153870.0",
         "3826850.0",
         "4255760.0",
         "4082650.0"
        ],
        [
         "1",
         "A2M",
         "29081000.0",
         "37853500.0",
         "35498000.0",
         "31877400.0",
         "33610000.0",
         "28347700.0",
         "38532700.0",
         "27022300.0",
         "34280900.0",
         "27884000.0",
         "24590900.0",
         "37020200.0",
         "35523500.0",
         "37471000.0",
         "36761100.0",
         "33036900.0",
         "33587600.0",
         "39030200.0",
         "21556000.0",
         "32524900.0",
         "23162300.0",
         "27714300.0",
         "21096800.0",
         "72880000.0",
         "38127500.0",
         "22692300.0",
         "32209900.0",
         "20576500.0",
         "33335300.0",
         "27990900.0",
         "38362600.0",
         "35181400.0",
         "29171900.0",
         "54335600.0",
         "32766100.0",
         "24668600.0",
         "34718800.0",
         "22940700.0",
         "32732900.0",
         "30113100.0",
         "25572700.0",
         "54609400.0",
         "31017900.0",
         "46733500.0",
         "34514000.0",
         "29053200.0",
         "39692400.0",
         "30105900.0",
         "25645000.0",
         "30654700.0",
         "25132900.0",
         "30402500.0",
         "25745300.0",
         "21363500.0",
         "42206200.0",
         "27638800.0",
         "25702300.0",
         "34987700.0",
         "28628200.0",
         "21072900.0",
         "26194200.0",
         "32148000.0",
         "23863200.0",
         "27069200.0",
         "25808200.0",
         "29629100.0",
         "46069600.0",
         "43733900.0",
         "41872300.0",
         "35548200.0",
         "34380800.0",
         "37411500.0",
         "32478700.0",
         "33778200.0",
         "21226400.0",
         "29822400.0",
         "31824300.0",
         "26935300.0",
         "29218600.0",
         "30331200.0",
         "25150500.0",
         "32014100.0",
         "36696100.0",
         "34215900.0",
         "32272700.0",
         "22579300.0",
         "21253900.0",
         "33163600.0",
         "28581400.0",
         "25564000.0",
         "34357100.0",
         "25004100.0",
         "27614800.0",
         "23417600.0",
         "36369700.0",
         "18278600.0",
         "31745600.0"
        ],
        [
         "2",
         "AFM",
         "2728300.0",
         "2844190.0",
         "4536440.0",
         "2380250.0",
         "3113180.0",
         "2713920.0",
         "2798340.0",
         "2386390.0",
         "2773470.0",
         "2946660.0",
         "3055520.0",
         "3212400.0",
         "3311330.0",
         "2590560.0",
         "2675950.0",
         "2271850.0",
         "2218310.0",
         "3384100.0",
         "2651280.0",
         "3072610.0",
         "2993010.0",
         "3229760.0",
         "2683550.0",
         "2664800.0",
         "2372030.0",
         "3615310.0",
         "2640360.0",
         "2721800.0",
         "2721170.0",
         "3077430.0",
         "2824180.0",
         "2589600.0",
         "2926660.0",
         "2253240.0",
         "2144620.0",
         "3197810.0",
         "2509210.0",
         "2936260.0",
         "2238730.0",
         "2875180.0",
         "3174930.0",
         "3445580.0",
         "2628010.0",
         "2302170.0",
         "3313590.0",
         "2428850.0",
         "2664840.0",
         "2898010.0",
         "2201180.0",
         "3414600.0",
         "3442320.0",
         "2187410.0",
         "3265760.0",
         "3633070.0",
         "2588040.0",
         "2747130.0",
         "1779070.0",
         "3360420.0",
         "3408630.0",
         "3708300.0",
         "2922100.0",
         "2685950.0",
         "3450050.0",
         "4215310.0",
         "2782050.0",
         "3323090.0",
         "3745570.0",
         "3917750.0",
         "2448310.0",
         "1891330.0",
         "3152950.0",
         "2326720.0",
         "2782290.0",
         "2690740.0",
         "2488950.0",
         "3375760.0",
         "2998570.0",
         "3201680.0",
         "3870050.0",
         "2203270.0",
         "2332140.0",
         "3903050.0",
         "3429670.0",
         "2065830.0",
         "2809300.0",
         "2853510.0",
         "3350710.0",
         "2896150.0",
         "3389140.0",
         "5115710.0",
         "2991010.0",
         "2120140.0",
         "2299340.0",
         "2832900.0",
         "2709590.0",
         "3370900.0",
         "3520490.0"
        ],
        [
         "3",
         "AGT",
         "1512500.0",
         "1376770.0",
         "1498480.0",
         "1756820.0",
         "1865590.0",
         "1820270.0",
         "2239130.0",
         "2181890.0",
         "2222410.0",
         "1832680.0",
         "4015960.0",
         "1470130.0",
         "1856330.0",
         "1610200.0",
         "1899760.0",
         "1886150.0",
         "2052400.0",
         "2481590.0",
         "1861440.0",
         "2779620.0",
         "1571240.0",
         "1978730.0",
         "1734740.0",
         "1598910.0",
         "1794870.0",
         "1885990.0",
         "2099790.0",
         "1675860.0",
         "2079880.0",
         "1455010.0",
         "2246830.0",
         "1998890.0",
         "2087020.0",
         "1349300.0",
         "1820920.0",
         "2221900.0",
         "1231420.0",
         "1576540.0",
         "1859740.0",
         "1972470.0",
         "1956980.0",
         "1582280.0",
         "1639240.0",
         "1673490.0",
         "2148270.0",
         "1846720.0",
         "1778890.0",
         "1850050.0",
         "1524900.0",
         "1705130.0",
         "1553800.0",
         "1494080.0",
         "1629320.0",
         "1444970.0",
         "1609930.0",
         "1701860.0",
         "1345070.0",
         "1667870.0",
         "1893280.0",
         "2338530.0",
         "2224770.0",
         "1779520.0",
         "1653010.0",
         "906886.0",
         "1658370.0",
         "1665360.0",
         "1588860.0",
         "1426350.0",
         "1876250.0",
         "1728770.0",
         "1691400.0",
         "1766400.0",
         "2271750.0",
         "1879400.0",
         "1415960.0",
         "2095290.0",
         "1635000.0",
         "955329.0",
         "1246980.0",
         "2126830.0",
         "2428540.0",
         "2370890.0",
         "2579630.0",
         "1475570.0",
         "1610650.0",
         "1821030.0",
         "1611240.0",
         "1535790.0",
         "1495780.0",
         "1986130.0",
         "1761910.0",
         "1375530.0",
         "1609700.0",
         "1407430.0",
         "1454560.0",
         "1637080.0",
         "2283260.0"
        ],
        [
         "4",
         "AHSG",
         "6060350.0",
         "4751270.0",
         "5790280.0",
         "3741330.0",
         "5596820.0",
         "5471120.0",
         "5887990.0",
         "4806990.0",
         "4263780.0",
         "4277770.0",
         "5057590.0",
         "4617000.0",
         "3501720.0",
         "4504190.0",
         "4271780.0",
         "4895400.0",
         "5550420.0",
         "6388810.0",
         "5666730.0",
         "5930120.0",
         "4286860.0",
         "5243550.0",
         "4849790.0",
         "4287300.0",
         "4616370.0",
         "5209870.0",
         "5085020.0",
         "5840460.0",
         "5156230.0",
         "5784650.0",
         "6198620.0",
         "5252830.0",
         "4057660.0",
         "4562490.0",
         "3818410.0",
         "5514530.0",
         "4124480.0",
         "5589570.0",
         "4128990.0",
         "6116250.0",
         "4856900.0",
         "3928830.0",
         "4581750.0",
         "5473770.0",
         "4859160.0",
         "5463580.0",
         "4915600.0",
         "6151070.0",
         "3953550.0",
         "6202380.0",
         "7386290.0",
         "5440140.0",
         "5637540.0",
         "6393220.0",
         "5488600.0",
         "5207820.0",
         "3316900.0",
         "4561250.0",
         "5614050.0",
         "4114520.0",
         "4645400.0",
         "4429830.0",
         "5638080.0",
         "5411090.0",
         "4460190.0",
         "4971880.0",
         "6280840.0",
         "6458170.0",
         "4263830.0",
         "4074730.0",
         "5223420.0",
         "4251590.0",
         "4599330.0",
         "4162680.0",
         "4609970.0",
         "4326020.0",
         "4766530.0",
         "4396440.0",
         "8547730.0",
         "4524900.0",
         "3341290.0",
         "5007660.0",
         "4761020.0",
         "5552930.0",
         "5397920.0",
         "4501510.0",
         "5086180.0",
         "5081730.0",
         "6277570.0",
         "7941170.0",
         "5082830.0",
         "2844550.0",
         "4641680.0",
         "5474700.0",
         "4590260.0",
         "5616420.0",
         "5019310.0"
        ]
       ],
       "shape": {
        "columns": 98,
        "rows": 5
       }
      },
      "text/html": [
       "<div>\n",
       "<style scoped>\n",
       "    .dataframe tbody tr th:only-of-type {\n",
       "        vertical-align: middle;\n",
       "    }\n",
       "\n",
       "    .dataframe tbody tr th {\n",
       "        vertical-align: top;\n",
       "    }\n",
       "\n",
       "    .dataframe thead th {\n",
       "        text-align: right;\n",
       "    }\n",
       "</style>\n",
       "<table border=\"1\" class=\"dataframe\">\n",
       "  <thead>\n",
       "    <tr style=\"text-align: right;\">\n",
       "      <th></th>\n",
       "      <th>Genes</th>\n",
       "      <th>20241127_Scapis_DIA_P1B10.mzML</th>\n",
       "      <th>20241127_Scapis_DIA_P1B2.mzML</th>\n",
       "      <th>20241127_Scapis_DIA_P1B4.mzML</th>\n",
       "      <th>20241127_Scapis_DIA_P1A4.mzML</th>\n",
       "      <th>20241127_Scapis_DIA_P1B3.mzML</th>\n",
       "      <th>20241127_Scapis_DIA_P1B11.mzML</th>\n",
       "      <th>20241127_Scapis_DIA_P1B12.mzML</th>\n",
       "      <th>20241127_Scapis_DIA_P1A11.mzML</th>\n",
       "      <th>20241127_Scapis_DIA_P1A10.mzML</th>\n",
       "      <th>...</th>\n",
       "      <th>20241127_Scapis_DIA_P1H6.mzML</th>\n",
       "      <th>20241127_Scapis_DIA_P1H1.mzML</th>\n",
       "      <th>20241127_Scapis_DIA_P1E9.mzML</th>\n",
       "      <th>20241127_Scapis_DIA_P1H8.mzML</th>\n",
       "      <th>20241127_Scapis_DIA_P1G4.mzML</th>\n",
       "      <th>20241127_Scapis_DIA_P1H3.mzML</th>\n",
       "      <th>20241127_Scapis_DIA_P1H7.mzML</th>\n",
       "      <th>20241127_Scapis_DIA_P1H2.mzML</th>\n",
       "      <th>20241127_Scapis_DIA_P1H11.mzML</th>\n",
       "      <th>20241127_Scapis_DIA_P1H9_20241129113823.mzML</th>\n",
       "    </tr>\n",
       "  </thead>\n",
       "  <tbody>\n",
       "    <tr>\n",
       "      <th>0</th>\n",
       "      <td>A1BG</td>\n",
       "      <td>4649770.0</td>\n",
       "      <td>4952960.0</td>\n",
       "      <td>4641070.0</td>\n",
       "      <td>3944320.0</td>\n",
       "      <td>5302630.0</td>\n",
       "      <td>5298060.0</td>\n",
       "      <td>4234510.0</td>\n",
       "      <td>4471800.0</td>\n",
       "      <td>5845090.0</td>\n",
       "      <td>...</td>\n",
       "      <td>4816530.0</td>\n",
       "      <td>5181880.0</td>\n",
       "      <td>5553770.0</td>\n",
       "      <td>4648390.0</td>\n",
       "      <td>4474500.0</td>\n",
       "      <td>3645070.0</td>\n",
       "      <td>5153870.0</td>\n",
       "      <td>3826850.0</td>\n",
       "      <td>4255760.0</td>\n",
       "      <td>4082650.0</td>\n",
       "    </tr>\n",
       "    <tr>\n",
       "      <th>1</th>\n",
       "      <td>A2M</td>\n",
       "      <td>29081000.0</td>\n",
       "      <td>37853500.0</td>\n",
       "      <td>35498000.0</td>\n",
       "      <td>31877400.0</td>\n",
       "      <td>33610000.0</td>\n",
       "      <td>28347700.0</td>\n",
       "      <td>38532700.0</td>\n",
       "      <td>27022300.0</td>\n",
       "      <td>34280900.0</td>\n",
       "      <td>...</td>\n",
       "      <td>33163600.0</td>\n",
       "      <td>28581400.0</td>\n",
       "      <td>25564000.0</td>\n",
       "      <td>34357100.0</td>\n",
       "      <td>25004100.0</td>\n",
       "      <td>27614800.0</td>\n",
       "      <td>23417600.0</td>\n",
       "      <td>36369700.0</td>\n",
       "      <td>18278600.0</td>\n",
       "      <td>31745600.0</td>\n",
       "    </tr>\n",
       "    <tr>\n",
       "      <th>2</th>\n",
       "      <td>AFM</td>\n",
       "      <td>2728300.0</td>\n",
       "      <td>2844190.0</td>\n",
       "      <td>4536440.0</td>\n",
       "      <td>2380250.0</td>\n",
       "      <td>3113180.0</td>\n",
       "      <td>2713920.0</td>\n",
       "      <td>2798340.0</td>\n",
       "      <td>2386390.0</td>\n",
       "      <td>2773470.0</td>\n",
       "      <td>...</td>\n",
       "      <td>2896150.0</td>\n",
       "      <td>3389140.0</td>\n",
       "      <td>5115710.0</td>\n",
       "      <td>2991010.0</td>\n",
       "      <td>2120140.0</td>\n",
       "      <td>2299340.0</td>\n",
       "      <td>2832900.0</td>\n",
       "      <td>2709590.0</td>\n",
       "      <td>3370900.0</td>\n",
       "      <td>3520490.0</td>\n",
       "    </tr>\n",
       "    <tr>\n",
       "      <th>3</th>\n",
       "      <td>AGT</td>\n",
       "      <td>1512500.0</td>\n",
       "      <td>1376770.0</td>\n",
       "      <td>1498480.0</td>\n",
       "      <td>1756820.0</td>\n",
       "      <td>1865590.0</td>\n",
       "      <td>1820270.0</td>\n",
       "      <td>2239130.0</td>\n",
       "      <td>2181890.0</td>\n",
       "      <td>2222410.0</td>\n",
       "      <td>...</td>\n",
       "      <td>1535790.0</td>\n",
       "      <td>1495780.0</td>\n",
       "      <td>1986130.0</td>\n",
       "      <td>1761910.0</td>\n",
       "      <td>1375530.0</td>\n",
       "      <td>1609700.0</td>\n",
       "      <td>1407430.0</td>\n",
       "      <td>1454560.0</td>\n",
       "      <td>1637080.0</td>\n",
       "      <td>2283260.0</td>\n",
       "    </tr>\n",
       "    <tr>\n",
       "      <th>4</th>\n",
       "      <td>AHSG</td>\n",
       "      <td>6060350.0</td>\n",
       "      <td>4751270.0</td>\n",
       "      <td>5790280.0</td>\n",
       "      <td>3741330.0</td>\n",
       "      <td>5596820.0</td>\n",
       "      <td>5471120.0</td>\n",
       "      <td>5887990.0</td>\n",
       "      <td>4806990.0</td>\n",
       "      <td>4263780.0</td>\n",
       "      <td>...</td>\n",
       "      <td>5081730.0</td>\n",
       "      <td>6277570.0</td>\n",
       "      <td>7941170.0</td>\n",
       "      <td>5082830.0</td>\n",
       "      <td>2844550.0</td>\n",
       "      <td>4641680.0</td>\n",
       "      <td>5474700.0</td>\n",
       "      <td>4590260.0</td>\n",
       "      <td>5616420.0</td>\n",
       "      <td>5019310.0</td>\n",
       "    </tr>\n",
       "  </tbody>\n",
       "</table>\n",
       "<p>5 rows × 98 columns</p>\n",
       "</div>"
      ],
      "text/plain": [
       "  Genes  20241127_Scapis_DIA_P1B10.mzML  20241127_Scapis_DIA_P1B2.mzML  \\\n",
       "0  A1BG                       4649770.0                      4952960.0   \n",
       "1   A2M                      29081000.0                     37853500.0   \n",
       "2   AFM                       2728300.0                      2844190.0   \n",
       "3   AGT                       1512500.0                      1376770.0   \n",
       "4  AHSG                       6060350.0                      4751270.0   \n",
       "\n",
       "   20241127_Scapis_DIA_P1B4.mzML  20241127_Scapis_DIA_P1A4.mzML  \\\n",
       "0                      4641070.0                      3944320.0   \n",
       "1                     35498000.0                     31877400.0   \n",
       "2                      4536440.0                      2380250.0   \n",
       "3                      1498480.0                      1756820.0   \n",
       "4                      5790280.0                      3741330.0   \n",
       "\n",
       "   20241127_Scapis_DIA_P1B3.mzML  20241127_Scapis_DIA_P1B11.mzML  \\\n",
       "0                      5302630.0                       5298060.0   \n",
       "1                     33610000.0                      28347700.0   \n",
       "2                      3113180.0                       2713920.0   \n",
       "3                      1865590.0                       1820270.0   \n",
       "4                      5596820.0                       5471120.0   \n",
       "\n",
       "   20241127_Scapis_DIA_P1B12.mzML  20241127_Scapis_DIA_P1A11.mzML  \\\n",
       "0                       4234510.0                       4471800.0   \n",
       "1                      38532700.0                      27022300.0   \n",
       "2                       2798340.0                       2386390.0   \n",
       "3                       2239130.0                       2181890.0   \n",
       "4                       5887990.0                       4806990.0   \n",
       "\n",
       "   20241127_Scapis_DIA_P1A10.mzML  ...  20241127_Scapis_DIA_P1H6.mzML  \\\n",
       "0                       5845090.0  ...                      4816530.0   \n",
       "1                      34280900.0  ...                     33163600.0   \n",
       "2                       2773470.0  ...                      2896150.0   \n",
       "3                       2222410.0  ...                      1535790.0   \n",
       "4                       4263780.0  ...                      5081730.0   \n",
       "\n",
       "   20241127_Scapis_DIA_P1H1.mzML  20241127_Scapis_DIA_P1E9.mzML  \\\n",
       "0                      5181880.0                      5553770.0   \n",
       "1                     28581400.0                     25564000.0   \n",
       "2                      3389140.0                      5115710.0   \n",
       "3                      1495780.0                      1986130.0   \n",
       "4                      6277570.0                      7941170.0   \n",
       "\n",
       "   20241127_Scapis_DIA_P1H8.mzML  20241127_Scapis_DIA_P1G4.mzML  \\\n",
       "0                      4648390.0                      4474500.0   \n",
       "1                     34357100.0                     25004100.0   \n",
       "2                      2991010.0                      2120140.0   \n",
       "3                      1761910.0                      1375530.0   \n",
       "4                      5082830.0                      2844550.0   \n",
       "\n",
       "   20241127_Scapis_DIA_P1H3.mzML  20241127_Scapis_DIA_P1H7.mzML  \\\n",
       "0                      3645070.0                      5153870.0   \n",
       "1                     27614800.0                     23417600.0   \n",
       "2                      2299340.0                      2832900.0   \n",
       "3                      1609700.0                      1407430.0   \n",
       "4                      4641680.0                      5474700.0   \n",
       "\n",
       "   20241127_Scapis_DIA_P1H2.mzML  20241127_Scapis_DIA_P1H11.mzML  \\\n",
       "0                      3826850.0                       4255760.0   \n",
       "1                     36369700.0                      18278600.0   \n",
       "2                      2709590.0                       3370900.0   \n",
       "3                      1454560.0                       1637080.0   \n",
       "4                      4590260.0                       5616420.0   \n",
       "\n",
       "   20241127_Scapis_DIA_P1H9_20241129113823.mzML  \n",
       "0                                     4082650.0  \n",
       "1                                    31745600.0  \n",
       "2                                     3520490.0  \n",
       "3                                     2283260.0  \n",
       "4                                     5019310.0  \n",
       "\n",
       "[5 rows x 98 columns]"
      ]
     },
     "execution_count": 5,
     "metadata": {},
     "output_type": "execute_result"
    }
   ],
   "source": [
    "df.head()"
   ]
  },
  {
   "cell_type": "code",
   "execution_count": null,
   "metadata": {},
   "outputs": [],
   "source": [
    "# For all columns except 'Genes' plot boxplot \n",
    "for col in df.columns[1:]:\n",
    "    plt.figure(figsize=(10, 6))\n",
    "    df.boxplot(column=col)\n",
    "    plt.title(f'Boxplot of {col}')\n",
    "    plt.ylabel('Intensity')\n",
    "    plt.xticks(rotation=45)\n",
    "    plt.tight_layout()\n",
    "    plt.savefig(f'plots/boxplot_{col}.png')\n",
    "    plt.close()  # Close the figure to free memory\n",
    "# For all columns except 'Genes' plot histogram \n",
    "for col in df.columns[1:]:\n",
    "    plt.figure(figsize=(10, 6))\n",
    "    df[col].hist(bins=50)\n",
    "    plt.title(f'Histogram of {col}')\n",
    "    plt.xlabel('Intensity')\n",
    "    plt.ylabel('Frequency')\n",
    "    plt.tight_layout()\n",
    "    plt.savefig(f'plots/histogram_{col}.png')\n",
    "    plt.close()  # Close the figure to free memory\n",
    "# For all columns except 'Genes' plot scatter plot"
   ]
  },
  {
   "cell_type": "code",
   "execution_count": 13,
   "metadata": {},
   "outputs": [
    {
     "data": {
      "application/vnd.microsoft.datawrangler.viewer.v0+json": {
       "columns": [
        {
         "name": "index",
         "rawType": "int64",
         "type": "integer"
        },
        {
         "name": "Genes",
         "rawType": "object",
         "type": "string"
        },
        {
         "name": "Sample",
         "rawType": "object",
         "type": "string"
        },
        {
         "name": "Intensity",
         "rawType": "float64",
         "type": "float"
        },
        {
         "name": "Col",
         "rawType": "object",
         "type": "string"
        },
        {
         "name": "Row",
         "rawType": "object",
         "type": "string"
        }
       ],
       "ref": "2220ff96-aca4-470d-8666-e7d335d6bc98",
       "rows": [
        [
         "0",
         "A1BG",
         "20241127_Scapis_DIA_P1B10.mzML",
         "4649770.0",
         "B",
         "10"
        ],
        [
         "1",
         "A2M",
         "20241127_Scapis_DIA_P1B10.mzML",
         "29081000.0",
         "B",
         "10"
        ],
        [
         "2",
         "AFM",
         "20241127_Scapis_DIA_P1B10.mzML",
         "2728300.0",
         "B",
         "10"
        ],
        [
         "3",
         "AGT",
         "20241127_Scapis_DIA_P1B10.mzML",
         "1512500.0",
         "B",
         "10"
        ],
        [
         "4",
         "AHSG",
         "20241127_Scapis_DIA_P1B10.mzML",
         "6060350.0",
         "B",
         "10"
        ]
       ],
       "shape": {
        "columns": 5,
        "rows": 5
       }
      },
      "text/html": [
       "<div>\n",
       "<style scoped>\n",
       "    .dataframe tbody tr th:only-of-type {\n",
       "        vertical-align: middle;\n",
       "    }\n",
       "\n",
       "    .dataframe tbody tr th {\n",
       "        vertical-align: top;\n",
       "    }\n",
       "\n",
       "    .dataframe thead th {\n",
       "        text-align: right;\n",
       "    }\n",
       "</style>\n",
       "<table border=\"1\" class=\"dataframe\">\n",
       "  <thead>\n",
       "    <tr style=\"text-align: right;\">\n",
       "      <th></th>\n",
       "      <th>Genes</th>\n",
       "      <th>Sample</th>\n",
       "      <th>Intensity</th>\n",
       "      <th>Col</th>\n",
       "      <th>Row</th>\n",
       "    </tr>\n",
       "  </thead>\n",
       "  <tbody>\n",
       "    <tr>\n",
       "      <th>0</th>\n",
       "      <td>A1BG</td>\n",
       "      <td>20241127_Scapis_DIA_P1B10.mzML</td>\n",
       "      <td>4649770.0</td>\n",
       "      <td>B</td>\n",
       "      <td>10</td>\n",
       "    </tr>\n",
       "    <tr>\n",
       "      <th>1</th>\n",
       "      <td>A2M</td>\n",
       "      <td>20241127_Scapis_DIA_P1B10.mzML</td>\n",
       "      <td>29081000.0</td>\n",
       "      <td>B</td>\n",
       "      <td>10</td>\n",
       "    </tr>\n",
       "    <tr>\n",
       "      <th>2</th>\n",
       "      <td>AFM</td>\n",
       "      <td>20241127_Scapis_DIA_P1B10.mzML</td>\n",
       "      <td>2728300.0</td>\n",
       "      <td>B</td>\n",
       "      <td>10</td>\n",
       "    </tr>\n",
       "    <tr>\n",
       "      <th>3</th>\n",
       "      <td>AGT</td>\n",
       "      <td>20241127_Scapis_DIA_P1B10.mzML</td>\n",
       "      <td>1512500.0</td>\n",
       "      <td>B</td>\n",
       "      <td>10</td>\n",
       "    </tr>\n",
       "    <tr>\n",
       "      <th>4</th>\n",
       "      <td>AHSG</td>\n",
       "      <td>20241127_Scapis_DIA_P1B10.mzML</td>\n",
       "      <td>6060350.0</td>\n",
       "      <td>B</td>\n",
       "      <td>10</td>\n",
       "    </tr>\n",
       "  </tbody>\n",
       "</table>\n",
       "</div>"
      ],
      "text/plain": [
       "  Genes                          Sample   Intensity Col Row\n",
       "0  A1BG  20241127_Scapis_DIA_P1B10.mzML   4649770.0   B  10\n",
       "1   A2M  20241127_Scapis_DIA_P1B10.mzML  29081000.0   B  10\n",
       "2   AFM  20241127_Scapis_DIA_P1B10.mzML   2728300.0   B  10\n",
       "3   AGT  20241127_Scapis_DIA_P1B10.mzML   1512500.0   B  10\n",
       "4  AHSG  20241127_Scapis_DIA_P1B10.mzML   6060350.0   B  10"
      ]
     },
     "execution_count": 13,
     "metadata": {},
     "output_type": "execute_result"
    }
   ],
   "source": [
    "# Gather all samples into a single column\n",
    "df_melted = df.melt(id_vars=['Genes'], var_name='Sample', value_name='Intensity')\n",
    "# Extract column and row in the plate \n",
    "df_melted['Col'] = df_melted['Sample'].str.extract(r'P1([a-zA-Z]+)\\d')\n",
    "df_melted['Row'] = df_melted['Sample'].str.extract(r'(\\d+)\\.mzML')\n",
    "df_melted.head()"
   ]
  },
  {
   "cell_type": "code",
   "execution_count": 16,
   "metadata": {},
   "outputs": [
    {
     "name": "stdout",
     "output_type": "stream",
     "text": [
      "Row\n",
      "1                 1752\n",
      "10                1752\n",
      "11                1752\n",
      "12                1752\n",
      "2                 1752\n",
      "20241128161332     219\n",
      "20241129113823     219\n",
      "3                 1752\n",
      "4                 1752\n",
      "5                 1752\n",
      "6                 1752\n",
      "7                 1752\n",
      "8                 1752\n",
      "9                 1533\n",
      "Name: count, dtype: int64\n"
     ]
    }
   ],
   "source": [
    "# Count row A\n",
    "row_counts = df_melted['Row'].value_counts().sort_index()\n",
    "print(row_counts)"
   ]
  },
  {
   "cell_type": "code",
   "execution_count": 17,
   "metadata": {},
   "outputs": [
    {
     "data": {
      "text/plain": [
       "<Figure size 1200x800 with 0 Axes>"
      ]
     },
     "metadata": {},
     "output_type": "display_data"
    },
    {
     "data": {
      "image/png": "[encoded data removed]",
      "text/plain": [
       "<Figure size 640x480 with 1 Axes>"
      ]
     },
     "metadata": {},
     "output_type": "display_data"
    }
   ],
   "source": [
    "row_a = df_melted[df_melted['Row'] == '1']\n",
    "\n",
    "# Plot boxplot of intensities for each sample\n",
    "plt.figure(figsize=(12, 8))\n",
    "row_a.boxplot(column='Intensity', by='Sample')\n",
    "plt.title('Boxplot of Intensities by Sample')\n",
    "plt.suptitle('')    # Remove the default title  \n",
    "plt.xlabel('Sample')\n",
    "plt.ylabel('Intensity')\n",
    "plt.xticks(rotation=45)\n",
    "plt.tight_layout()\n",
    "# Add log scale to y-axis\n",
    "plt.yscale('log')\n",
    "plt.show()"
   ]
  }
 ],
 "metadata": {
  "kernelspec": {
   "display_name": "Python 3",
   "language": "python",
   "name": "python3"
  },
  "language_info": {
   "codemirror_mode": {
    "name": "ipython",
    "version": 3
   },
   "file_extension": ".py",
   "mimetype": "text/x-python",
   "name": "python",
   "nbconvert_exporter": "python",
   "pygments_lexer": "ipython3",
   "version": "3.10.16"
  }
 },
 "nbformat": 4,
 "nbformat_minor": 2
}
